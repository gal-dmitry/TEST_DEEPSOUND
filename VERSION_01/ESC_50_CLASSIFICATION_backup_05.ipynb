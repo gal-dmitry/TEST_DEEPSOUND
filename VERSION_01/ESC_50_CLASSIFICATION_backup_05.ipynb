{
 "cells": [
  {
   "cell_type": "code",
   "execution_count": 1,
   "metadata": {
    "colab": {
     "base_uri": "https://localhost:8080/"
    },
    "executionInfo": {
     "elapsed": 40608,
     "status": "ok",
     "timestamp": 1662379296648,
     "user": {
      "displayName": "Дмитрий Галимзянов",
      "userId": "11134509458244039564"
     },
     "user_tz": -180
    },
    "id": "8LoG6iQydQtQ",
    "outputId": "844c1460-8e05-41f1-90a7-2be0ff8cdbaf"
   },
   "outputs": [],
   "source": [
    "# from google.colab import drive\n",
    "# drive.mount('/content/drive')"
   ]
  },
  {
   "cell_type": "code",
   "execution_count": 2,
   "metadata": {
    "colab": {
     "base_uri": "https://localhost:8080/"
    },
    "executionInfo": {
     "elapsed": 292,
     "status": "ok",
     "timestamp": 1662379298864,
     "user": {
      "displayName": "Дмитрий Галимзянов",
      "userId": "11134509458244039564"
     },
     "user_tz": -180
    },
    "id": "sBFI3cZPdYgO",
    "outputId": "0691df78-e653-47eb-a216-9d11b805304d"
   },
   "outputs": [],
   "source": [
    "# !pwd"
   ]
  },
  {
   "cell_type": "code",
   "execution_count": 3,
   "metadata": {
    "executionInfo": {
     "elapsed": 273,
     "status": "ok",
     "timestamp": 1662379304890,
     "user": {
      "displayName": "Дмитрий Галимзянов",
      "userId": "11134509458244039564"
     },
     "user_tz": -180
    },
    "id": "QIhwkaeRcVRh"
   },
   "outputs": [],
   "source": [
    "%load_ext autoreload\n",
    "%autoreload 2"
   ]
  },
  {
   "cell_type": "code",
   "execution_count": 4,
   "metadata": {
    "executionInfo": {
     "elapsed": 3,
     "status": "ok",
     "timestamp": 1662379308773,
     "user": {
      "displayName": "Дмитрий Галимзянов",
      "userId": "11134509458244039564"
     },
     "user_tz": -180
    },
    "id": "cyp3HvfAcVRn"
   },
   "outputs": [],
   "source": [
    "import warnings\n",
    "warnings.filterwarnings('ignore')"
   ]
  },
  {
   "cell_type": "code",
   "execution_count": 5,
   "metadata": {
    "executionInfo": {
     "elapsed": 2412,
     "status": "ok",
     "timestamp": 1662379308772,
     "user": {
      "displayName": "Дмитрий Галимзянов",
      "userId": "11134509458244039564"
     },
     "user_tz": -180
    },
    "id": "cMMqHCxncVRm"
   },
   "outputs": [],
   "source": [
    "import os\n",
    "import numpy as np\n",
    "import pandas as pd\n",
    "import numpy as np\n",
    "# import cv2\n",
    "\n",
    "import matplotlib.pyplot as plt\n",
    "import IPython.display as ipd\n",
    "from tqdm import tqdm\n",
    "from PIL import Image\n",
    "\n",
    "import torch\n",
    "import torch.nn as nn\n",
    "\n",
    "from torch.optim import Adam\n",
    "from torch.optim.lr_scheduler import ExponentialLR\n",
    "from torch.utils.data import Dataset, DataLoader\n",
    "import torchvision.transforms as transforms\n",
    "\n",
    "# from torchvision.models import resnet34\n",
    "from torchvision.models import AlexNet\n",
    "\n",
    "from sklearn.metrics import classification_report\n",
    "from sklearn.metrics import accuracy_score\n",
    "from sklearn.preprocessing import LabelBinarizer\n",
    "\n",
    "import librosa\n",
    "from librosa.display import specshow\n",
    "from librosa.display import waveshow\n",
    "from librosa.feature import melspectrogram\n",
    "from librosa.feature import mfcc\n",
    "\n"
   ]
  },
  {
   "cell_type": "markdown",
   "metadata": {
    "id": "Bb_o3LspcVRo"
   },
   "source": [
    "###### Exploratory analysis"
   ]
  },
  {
   "cell_type": "code",
   "execution_count": null,
   "metadata": {
    "id": "uU2s-BOtcVRq"
   },
   "outputs": [],
   "source": []
  },
  {
   "cell_type": "markdown",
   "metadata": {
    "id": "EU0TwVk8cVRs"
   },
   "source": [
    "###### Case study"
   ]
  },
  {
   "cell_type": "code",
   "execution_count": 105,
   "metadata": {
    "executionInfo": {
     "elapsed": 288,
     "status": "ok",
     "timestamp": 1662379315483,
     "user": {
      "displayName": "Дмитрий Галимзянов",
      "userId": "11134509458244039564"
     },
     "user_tz": -180
    },
    "id": "G_flueZxcVRt"
   },
   "outputs": [],
   "source": [
    "\"\"\"\n",
    "Wave & features\n",
    "\"\"\"\n",
    "def transform_image(resize_shape=(256, 256)):\n",
    "    data_transform = transforms.Compose([\n",
    "            transforms.Resize(resize_shape),\n",
    "            transforms.ToTensor()\n",
    "            ])\n",
    "    return data_transform\n",
    "    \n",
    "\n",
    "def spec_to_image(spec, eps=1e-6):\n",
    "    mean = spec.mean()\n",
    "    std = spec.std()\n",
    "    spec_norm = (spec - mean) / (std + eps)\n",
    "    spec_min, spec_max = spec_norm.min(), spec_norm.max()\n",
    "    spec_scaled = 255 * (spec_norm - spec_min) / (spec_max - spec_min)\n",
    "    spec_scaled = spec_scaled.astype(np.uint8)\n",
    "    return spec_scaled\n",
    "\n",
    "\n",
    "def get_wave(path, sr=None):\n",
    "    wav, sr = librosa.load(path, sr=sr)\n",
    "    return wav, sr\n",
    "\n",
    "\n",
    "def get_feature(wav,\n",
    "                data_transform=transform_image(resize_shape=(256, 256)),\n",
    "                power_to_db=True,\n",
    "                to_img=True,\n",
    "                feature=melspectrogram,\n",
    "                sr=None,\n",
    "                n_fft=2048, \n",
    "                hop_length=512, \n",
    "                n_mels=128, \n",
    "                fmin=20, \n",
    "                fmax=8300, \n",
    "                top_db=80):\n",
    "    \n",
    "    spec = feature(wav, \n",
    "                  sr=sr,\n",
    "                  n_fft=n_fft,\n",
    "                  hop_length=hop_length,\n",
    "                  n_mels=n_mels,\n",
    "                  fmin=fmin,\n",
    "                  fmax=fmax)\n",
    "\n",
    "    if power_to_db:\n",
    "        spec = librosa.power_to_db(spec, top_db=top_db)\n",
    "    \n",
    "    if to_img:\n",
    "        spec = spec_to_image(spec)\n",
    "    \n",
    "    if data_transform is not None:\n",
    "        spec = Image.fromarray(spec)\n",
    "        spec = data_transform(spec)    \n",
    "        \n",
    "    return spec\n",
    "\n",
    "\n",
    "\n",
    "\"\"\"\n",
    "Plot\n",
    "\"\"\"\n",
    "def plot_audio(path):\n",
    "    return ipd.Audio(path)\n",
    "\n",
    "\n",
    "def plot_wave(wav, title=\"wave\"):\n",
    "    waveshow(wav, x_axis='time')\n",
    "    plt.title(title)\n",
    "    plt.show()\n",
    "    \n",
    "    \n",
    "def plot_feature(feature, title=\"melspectrogram\"): ### ???\n",
    "    specshow(feature, x_axis='time', y_axis='hz')  ### ???\n",
    "    plt.colorbar()\n",
    "    plt.title(title)\n",
    "    plt.show()\n",
    "    \n",
    "\n",
    "    \n",
    "\"\"\"\n",
    "Case study\n",
    "\"\"\"\n",
    "def audio_info(path, \n",
    "               sr=None, \n",
    "               features_dct={\"melspectrogram\": melspectrogram,\n",
    "                             \"mfcc\": mfcc}):\n",
    "\n",
    "    wav, sr = librosa.load(path, sr=sr)\n",
    "    plot_wave(wav)\n",
    "    for name, feature in features_dct.items():\n",
    "        f = get_feature(wav, sr=sr, feature=feature)\n",
    "        plot_feature(f, title=name)\n",
    "    return plot_audio(path)"
   ]
  },
  {
   "cell_type": "code",
   "execution_count": null,
   "metadata": {},
   "outputs": [],
   "source": []
  },
  {
   "cell_type": "code",
   "execution_count": null,
   "metadata": {
    "colab": {
     "base_uri": "https://localhost:8080/",
     "height": 909
    },
    "executionInfo": {
     "elapsed": 16293,
     "status": "ok",
     "timestamp": 1662379334606,
     "user": {
      "displayName": "Дмитрий Галимзянов",
      "userId": "11134509458244039564"
     },
     "user_tz": -180
    },
    "id": "Y1cHdML-cVRv",
    "outputId": "987b4930-acca-4ead-a29a-ac40baaca16d"
   },
   "outputs": [],
   "source": [
    "# audio_info('drive/MyDrive/DEEPSOUND/ESC-50-master/audio/1-100032-A-0.wav')\n",
    "audio_info('../ESC-50-master/audio/1-100032-A-0.wav')"
   ]
  },
  {
   "cell_type": "code",
   "execution_count": null,
   "metadata": {},
   "outputs": [],
   "source": []
  },
  {
   "cell_type": "code",
   "execution_count": null,
   "metadata": {},
   "outputs": [],
   "source": []
  },
  {
   "cell_type": "markdown",
   "metadata": {
    "id": "N3T5W-ghcVRx"
   },
   "source": [
    "###### Construct Datasets"
   ]
  },
  {
   "cell_type": "code",
   "execution_count": 186,
   "metadata": {
    "executionInfo": {
     "elapsed": 306,
     "status": "ok",
     "timestamp": 1662379338006,
     "user": {
      "displayName": "Дмитрий Галимзянов",
      "userId": "11134509458244039564"
     },
     "user_tz": -180
    },
    "id": "svBmVyEocVRx"
   },
   "outputs": [],
   "source": [
    "\"\"\"\n",
    "DF\n",
    "\"\"\"\n",
    "def _rename_targets(df):\n",
    "    map_dct = dict()\n",
    "    for i, target in enumerate(df.target.unique()):\n",
    "        map_dct[target] = i\n",
    "    df.target = df.target.map(map_dct)\n",
    "    return df\n",
    "        \n",
    "    \n",
    "def _get_df(path, only_esc10=True):\n",
    "    df = pd.read_csv(path)\n",
    "    if only_esc10:\n",
    "        print(f\"Use only 10 classes!\")\n",
    "        print()\n",
    "        df = df[df.esc10 == True]\n",
    "        df = _rename_targets(df)\n",
    "    return df\n",
    "\n",
    "\n",
    "def _get_target_description(df):\n",
    "    return df[[\"target\", \"category\"]].groupby(\"target\").first()\n",
    "\n",
    "\n",
    "def _get_target_distribution(df, title=\"distribution_of_targets\", ax=None, show=False):    \n",
    "    ax = df.target.hist(bins=50, alpha=0.5, edgecolor=\"black\", ax=ax)\n",
    "    ax.set_xlabel(\"target\")\n",
    "    ax.set_ylabel(\"number_of_data_points\")\n",
    "    _min = df.target.min()\n",
    "    _max = df.target.max() + 1\n",
    "    plt.xticks(np.arange(_min, _max, 1))\n",
    "    if show:\n",
    "        plt.title(title)\n",
    "        plt.show()\n",
    "    else:\n",
    "        return ax\n",
    "    \n",
    "    \n",
    "def _get_folds(df):\n",
    "    fold_dct = dict()\n",
    "    for fold in df.fold.unique():\n",
    "        fold_dct[fold] = df[df.fold == fold]\n",
    "    return fold_dct\n",
    "\n",
    "\n",
    "def _get_folds_info(dct):\n",
    "    print(f\"Number_of_folds: {len(dct)}\")\n",
    "    print()\n",
    "    for i, fold in dct.items():\n",
    "        print(f\"fold: {i} | size: {fold.shape[0]}\")\n",
    "    print()\n",
    "    \n",
    "    \n",
    "def _get_folds_distribution(dct):\n",
    "    print(\"Distribution of targets across folds:\")\n",
    "    fig, axs = plt.subplots(nrows=1, ncols=len(dct), figsize=(20, 2), sharey=True)\n",
    "    for i, fold in dct.items():\n",
    "        _ax = axs[i - 1]\n",
    "        _get_target_distribution(fold, ax=_ax)\n",
    "        _ax.set_title(f\"fold_{i}\")\n",
    "    plt.show()         \n",
    "\n",
    "    \n",
    "def _get_number_of_classes(df):\n",
    "    return df.target.unique().shape[0]\n",
    "\n",
    "\n",
    "def _get_point_from_df(df, \n",
    "                       ind=0, \n",
    "                       base_dir='../ESC-50-master/audio', \n",
    "                       in_col='filename', \n",
    "                       out_col='target',\n",
    "                       feature=melspectrogram):\n",
    "    \n",
    "    row = df.iloc[ind]\n",
    "    file_name = row[in_col]\n",
    "    label = row[out_col]\n",
    "\n",
    "    file_path = os.path.join(base_dir, file_name)            \n",
    "    wav, sr = get_wave(file_path)\n",
    "    point_feature = get_feature(wav, sr=sr, feature=feature) ### to remake\n",
    "    return point_feature, label\n",
    "\n",
    "\n",
    "def _train_test_split(df, test_fold=1):\n",
    "    train_df = df[df.fold != test_fold]\n",
    "    test_df = df[df.fold == test_fold]\n",
    "    return train_df, test_df\n",
    "\n",
    "\n",
    "\n",
    "\"\"\"\n",
    "Dataset\n",
    "\"\"\"   \n",
    "class ESC50Data(Dataset):\n",
    "    \n",
    "    def __init__(self, \n",
    "                 df,\n",
    "                 feature=melspectrogram,\n",
    "                 base_dir='../ESC-50-master/audio', \n",
    "                 in_col='filename', \n",
    "                 out_col='target'):\n",
    "        \n",
    "        self.df = df\n",
    "        self.data = []\n",
    "        self.labels = []\n",
    "        self.one_hots = []\n",
    "        \n",
    "        labels = df[out_col].unique()\n",
    "        assert len(labels) == 10 ### to del\n",
    "        \n",
    "        enc = LabelBinarizer()\n",
    "        enc.fit(labels)\n",
    "        self.enc = enc\n",
    "\n",
    "        for ind in tqdm(range(len(df))):\n",
    "            point_feature, label = _get_point_from_df(df, \n",
    "                                                      ind=ind, \n",
    "                                                      base_dir=base_dir, \n",
    "                                                      in_col=in_col, \n",
    "                                                      out_col=out_col,\n",
    "                                                      feature=feature)\n",
    "            \n",
    "            self.data.append(point_feature)\n",
    "#             self.data.append(point_feature[np.newaxis,...])            \n",
    "            self.labels.append(label)\n",
    "            self.one_hots.append(enc.transform([label]).flatten())\n",
    "        \n",
    "                                        \n",
    "    def __len__(self):\n",
    "        return len(self.data)\n",
    "    \n",
    "    \n",
    "    def __getitem__(self, idx):\n",
    "        return self.data[idx], self.labels[idx]\n",
    "#         return self.data[idx], self.one_hots[idx]\n",
    "        \n",
    "    \n",
    "    \n",
    "\n",
    "    \n",
    "\"\"\"\n",
    "Loaders\n",
    "\"\"\"\n",
    "def get_loaders(df,\n",
    "                base_dir='../ESC-50-master/audio',\n",
    "                feature=melspectrogram,\n",
    "                test_fold=None, \n",
    "                batch_size=16):\n",
    "    \n",
    "    # 1. split\n",
    "    train_df = df\n",
    "    test_df = None\n",
    "    if test_fold is not None:\n",
    "        train_df, test_df = _train_test_split(df, test_fold=test_fold)\n",
    "\n",
    "    # 2. loaders\n",
    "    print(\"train_data:\")\n",
    "    train_data = ESC50Data(train_df, base_dir=base_dir, feature=feature)\n",
    "    train_loader = DataLoader(train_data, batch_size=batch_size, shuffle=True)\n",
    "    \n",
    "    test_loader = None\n",
    "    if test_df is not None:\n",
    "        print(\"test_data:\")\n",
    "        test_data = ESC50Data(test_df, base_dir=base_dir, feature=feature)\n",
    "        test_loader = DataLoader(test_data, batch_size=batch_size, shuffle=True) ### !!!\n",
    "    \n",
    "    return train_loader, test_loader\n",
    "\n",
    "\n",
    "def get_cross_validation_loaders(df,\n",
    "                                 base_dir='../ESC-50-master/audio',\n",
    "                                 feature=melspectrogram, \n",
    "                                 batch_size=16):\n",
    "    \n",
    "    loaders = []\n",
    "    folds = df.fold.unique()\n",
    "    for fold in folds:\n",
    "        print(f\"--- FOLD: {fold} ---\")\n",
    "        train_loader, test_loader = get_loaders(df,\n",
    "                                                base_dir=base_dir,\n",
    "                                                feature=feature,\n",
    "                                                test_fold=fold, \n",
    "                                                batch_size=batch_size)\n",
    "        loaders.append((train_loader, test_loader))\n",
    "        \n",
    "    return loaders       \n",
    "\n",
    "\n",
    "\n",
    "\"\"\"\n",
    "Data Storage\n",
    "\"\"\"\n",
    "class DataStorage:\n",
    "    \n",
    "    def __init__(self,\n",
    "                 base_dir=\"../ESC-50-master\",\n",
    "                 only_esc10=True,\n",
    "                 feature=melspectrogram,\n",
    "                 batch_size=16):\n",
    "        \n",
    "        csv_path = os.path.join(base_dir, \"meta\", \"esc50.csv\")\n",
    "        audio_dir_path = os.path.join(base_dir, \"audio\")\n",
    "        \n",
    "        assert os.path.isfile(csv_path)\n",
    "        assert os.path.isdir(audio_dir_path)\n",
    "        \n",
    "        self.csv_path = csv_path\n",
    "        self.audio_dir_path = audio_dir_path\n",
    "        self.feature = feature\n",
    "        self.batch_size = batch_size\n",
    "        \n",
    "        df = _get_df(csv_path, only_esc10=only_esc10)\n",
    "        \n",
    "        self.df = df\n",
    "        self.folds = _get_folds(df)\n",
    "        self.target_description = _get_target_description(df)  \n",
    "        self.number_of_classes = _get_number_of_classes(df)\n",
    "        self.random_point_feature = self.get_ind_point_feature(ind=np.random.choice(df.shape[0]))\n",
    "        self.feature_shape = self.random_point_feature.shape\n",
    "        \n",
    "        print(f\"Number of points: {self.df.shape[0]}\")\n",
    "        print()\n",
    "        print(self.get_target_description())\n",
    "        print()\n",
    "        print(f\"Feature: {feature} | Shape: {self.feature_shape}\")\n",
    "        print()\n",
    "        self.get_cross_validation_loaders()\n",
    "        self.get_full_data_loader() ### ???\n",
    "        \n",
    "        \n",
    "    def get_ind_point_feature(self, ind=0):\n",
    "        point_feature, _ = _get_point_from_df(self.df, \n",
    "                                              ind=ind, \n",
    "                                              base_dir=self.audio_dir_path, \n",
    "                                              feature=self.feature)\n",
    "        return point_feature\n",
    "        \n",
    "        \n",
    "    def get_folds_description(self):\n",
    "        _get_folds_info(self.folds)\n",
    "        \n",
    "        \n",
    "    def get_folds_distribution(self):\n",
    "        _get_folds_distribution(self.folds)\n",
    "        \n",
    "        \n",
    "    def get_target_description(self):\n",
    "        return self.target_description\n",
    "    \n",
    "    \n",
    "    def get_target_distribution(self):\n",
    "        _get_target_distribution(self.df, show=True)\n",
    "        \n",
    "        \n",
    "    def get_cross_validation_loaders(self):\n",
    "        print(\"------ CONSTRUCT CROSS VALIDATION LOADERS------\")\n",
    "        print()\n",
    "        self.get_folds_description()\n",
    "        self.get_folds_distribution()\n",
    "        self.cross_validation_loaders = \\\n",
    "        get_cross_validation_loaders(self.df,\n",
    "                                     base_dir=self.audio_dir_path,\n",
    "                                     feature=self.feature, \n",
    "                                     batch_size=self.batch_size)\n",
    "    \n",
    "    \n",
    "    def get_full_data_loader(self):\n",
    "        print(\"------ CONSTRUCT FULL DATA LOADER------\")\n",
    "        print()\n",
    "        print(f\"Number of points: {self.df.shape[0]}\")\n",
    "        self.get_target_distribution()\n",
    "        self.full_data_loader, _ = \\\n",
    "        get_loaders(self.df,\n",
    "                    base_dir=self.audio_dir_path,\n",
    "                    feature=self.feature,\n",
    "                    test_fold=None, \n",
    "                    batch_size=self.batch_size)"
   ]
  },
  {
   "cell_type": "code",
   "execution_count": 187,
   "metadata": {
    "scrolled": true
   },
   "outputs": [
    {
     "name": "stdout",
     "output_type": "stream",
     "text": [
      "Use only 10 classes!\n",
      "\n",
      "Number of points: 400\n",
      "\n",
      "              category\n",
      "target                \n",
      "0                  dog\n",
      "1             chainsaw\n",
      "2       crackling_fire\n",
      "3           helicopter\n",
      "4                 rain\n",
      "5          crying_baby\n",
      "6           clock_tick\n",
      "7             sneezing\n",
      "8              rooster\n",
      "9            sea_waves\n",
      "\n",
      "Feature: <function melspectrogram at 0x7fc7a8980670> | Shape: torch.Size([1, 256, 256])\n",
      "\n",
      "------ CONSTRUCT CROSS VALIDATION LOADERS------\n",
      "\n",
      "Number_of_folds: 5\n",
      "\n",
      "fold: 1 | size: 80\n",
      "fold: 2 | size: 80\n",
      "fold: 3 | size: 80\n",
      "fold: 4 | size: 80\n",
      "fold: 5 | size: 80\n",
      "\n",
      "Distribution of targets across folds:\n"
     ]
    },
    {
     "data": {
      "image/png": "[encoded data removed]",
      "text/plain": [
       "<Figure size 1440x144 with 5 Axes>"
      ]
     },
     "metadata": {
      "needs_background": "light"
     },
     "output_type": "display_data"
    },
    {
     "name": "stdout",
     "output_type": "stream",
     "text": [
      "--- FOLD: 1 ---\n",
      "train_data:\n"
     ]
    },
    {
     "name": "stderr",
     "output_type": "stream",
     "text": [
      "100%|██████████| 320/320 [00:09<00:00, 34.21it/s]\n"
     ]
    },
    {
     "name": "stdout",
     "output_type": "stream",
     "text": [
      "test_data:\n"
     ]
    },
    {
     "name": "stderr",
     "output_type": "stream",
     "text": [
      "100%|██████████| 80/80 [00:02<00:00, 37.76it/s]\n"
     ]
    },
    {
     "name": "stdout",
     "output_type": "stream",
     "text": [
      "--- FOLD: 2 ---\n",
      "train_data:\n"
     ]
    },
    {
     "name": "stderr",
     "output_type": "stream",
     "text": [
      "100%|██████████| 320/320 [00:06<00:00, 46.15it/s]\n"
     ]
    },
    {
     "name": "stdout",
     "output_type": "stream",
     "text": [
      "test_data:\n"
     ]
    },
    {
     "name": "stderr",
     "output_type": "stream",
     "text": [
      "100%|██████████| 80/80 [00:02<00:00, 38.14it/s]\n"
     ]
    },
    {
     "name": "stdout",
     "output_type": "stream",
     "text": [
      "--- FOLD: 3 ---\n",
      "train_data:\n"
     ]
    },
    {
     "name": "stderr",
     "output_type": "stream",
     "text": [
      "100%|██████████| 320/320 [00:06<00:00, 46.70it/s]\n"
     ]
    },
    {
     "name": "stdout",
     "output_type": "stream",
     "text": [
      "test_data:\n"
     ]
    },
    {
     "name": "stderr",
     "output_type": "stream",
     "text": [
      "100%|██████████| 80/80 [00:01<00:00, 40.35it/s]\n"
     ]
    },
    {
     "name": "stdout",
     "output_type": "stream",
     "text": [
      "--- FOLD: 4 ---\n",
      "train_data:\n"
     ]
    },
    {
     "name": "stderr",
     "output_type": "stream",
     "text": [
      "100%|██████████| 320/320 [00:06<00:00, 46.51it/s]\n"
     ]
    },
    {
     "name": "stdout",
     "output_type": "stream",
     "text": [
      "test_data:\n"
     ]
    },
    {
     "name": "stderr",
     "output_type": "stream",
     "text": [
      "100%|██████████| 80/80 [00:01<00:00, 44.42it/s]\n"
     ]
    },
    {
     "name": "stdout",
     "output_type": "stream",
     "text": [
      "--- FOLD: 5 ---\n",
      "train_data:\n"
     ]
    },
    {
     "name": "stderr",
     "output_type": "stream",
     "text": [
      "100%|██████████| 320/320 [00:06<00:00, 46.82it/s]\n"
     ]
    },
    {
     "name": "stdout",
     "output_type": "stream",
     "text": [
      "test_data:\n"
     ]
    },
    {
     "name": "stderr",
     "output_type": "stream",
     "text": [
      "100%|██████████| 80/80 [00:01<00:00, 48.16it/s]\n"
     ]
    },
    {
     "name": "stdout",
     "output_type": "stream",
     "text": [
      "------ CONSTRUCT FULL DATA LOADER------\n",
      "\n",
      "Number of points: 400\n"
     ]
    },
    {
     "data": {
      "image/png": "[encoded data removed]",
      "text/plain": [
       "<Figure size 432x288 with 1 Axes>"
      ]
     },
     "metadata": {
      "needs_background": "light"
     },
     "output_type": "display_data"
    },
    {
     "name": "stdout",
     "output_type": "stream",
     "text": [
      "train_data:\n"
     ]
    },
    {
     "name": "stderr",
     "output_type": "stream",
     "text": [
      "100%|██████████| 400/400 [00:10<00:00, 38.40it/s]\n"
     ]
    }
   ],
   "source": [
    "DS = DataStorage()\n",
    "\n",
    "# DS.get_cross_validation_loaders()\n",
    "# DS.get_full_data_loader()"
   ]
  },
  {
   "cell_type": "code",
   "execution_count": 154,
   "metadata": {
    "id": "PTjlUhiMcVR0"
   },
   "outputs": [
    {
     "data": {
      "text/html": [
       "<div>\n",
       "<style scoped>\n",
       "    .dataframe tbody tr th:only-of-type {\n",
       "        vertical-align: middle;\n",
       "    }\n",
       "\n",
       "    .dataframe tbody tr th {\n",
       "        vertical-align: top;\n",
       "    }\n",
       "\n",
       "    .dataframe thead th {\n",
       "        text-align: right;\n",
       "    }\n",
       "</style>\n",
       "<table border=\"1\" class=\"dataframe\">\n",
       "  <thead>\n",
       "    <tr style=\"text-align: right;\">\n",
       "      <th></th>\n",
       "      <th>filename</th>\n",
       "      <th>fold</th>\n",
       "      <th>target</th>\n",
       "      <th>category</th>\n",
       "      <th>esc10</th>\n",
       "      <th>src_file</th>\n",
       "      <th>take</th>\n",
       "    </tr>\n",
       "  </thead>\n",
       "  <tbody>\n",
       "    <tr>\n",
       "      <th>0</th>\n",
       "      <td>1-100032-A-0.wav</td>\n",
       "      <td>1</td>\n",
       "      <td>0</td>\n",
       "      <td>dog</td>\n",
       "      <td>True</td>\n",
       "      <td>100032</td>\n",
       "      <td>A</td>\n",
       "    </tr>\n",
       "    <tr>\n",
       "      <th>14</th>\n",
       "      <td>1-110389-A-0.wav</td>\n",
       "      <td>1</td>\n",
       "      <td>0</td>\n",
       "      <td>dog</td>\n",
       "      <td>True</td>\n",
       "      <td>110389</td>\n",
       "      <td>A</td>\n",
       "    </tr>\n",
       "    <tr>\n",
       "      <th>24</th>\n",
       "      <td>1-116765-A-41.wav</td>\n",
       "      <td>1</td>\n",
       "      <td>1</td>\n",
       "      <td>chainsaw</td>\n",
       "      <td>True</td>\n",
       "      <td>116765</td>\n",
       "      <td>A</td>\n",
       "    </tr>\n",
       "    <tr>\n",
       "      <th>54</th>\n",
       "      <td>1-17150-A-12.wav</td>\n",
       "      <td>1</td>\n",
       "      <td>2</td>\n",
       "      <td>crackling_fire</td>\n",
       "      <td>True</td>\n",
       "      <td>17150</td>\n",
       "      <td>A</td>\n",
       "    </tr>\n",
       "    <tr>\n",
       "      <th>55</th>\n",
       "      <td>1-172649-A-40.wav</td>\n",
       "      <td>1</td>\n",
       "      <td>3</td>\n",
       "      <td>helicopter</td>\n",
       "      <td>True</td>\n",
       "      <td>172649</td>\n",
       "      <td>A</td>\n",
       "    </tr>\n",
       "    <tr>\n",
       "      <th>...</th>\n",
       "      <td>...</td>\n",
       "      <td>...</td>\n",
       "      <td>...</td>\n",
       "      <td>...</td>\n",
       "      <td>...</td>\n",
       "      <td>...</td>\n",
       "      <td>...</td>\n",
       "    </tr>\n",
       "    <tr>\n",
       "      <th>1876</th>\n",
       "      <td>5-233160-A-1.wav</td>\n",
       "      <td>5</td>\n",
       "      <td>8</td>\n",
       "      <td>rooster</td>\n",
       "      <td>True</td>\n",
       "      <td>233160</td>\n",
       "      <td>A</td>\n",
       "    </tr>\n",
       "    <tr>\n",
       "      <th>1888</th>\n",
       "      <td>5-234879-A-1.wav</td>\n",
       "      <td>5</td>\n",
       "      <td>8</td>\n",
       "      <td>rooster</td>\n",
       "      <td>True</td>\n",
       "      <td>234879</td>\n",
       "      <td>A</td>\n",
       "    </tr>\n",
       "    <tr>\n",
       "      <th>1889</th>\n",
       "      <td>5-234879-B-1.wav</td>\n",
       "      <td>5</td>\n",
       "      <td>8</td>\n",
       "      <td>rooster</td>\n",
       "      <td>True</td>\n",
       "      <td>234879</td>\n",
       "      <td>B</td>\n",
       "    </tr>\n",
       "    <tr>\n",
       "      <th>1894</th>\n",
       "      <td>5-235671-A-38.wav</td>\n",
       "      <td>5</td>\n",
       "      <td>6</td>\n",
       "      <td>clock_tick</td>\n",
       "      <td>True</td>\n",
       "      <td>235671</td>\n",
       "      <td>A</td>\n",
       "    </tr>\n",
       "    <tr>\n",
       "      <th>1999</th>\n",
       "      <td>5-9032-A-0.wav</td>\n",
       "      <td>5</td>\n",
       "      <td>0</td>\n",
       "      <td>dog</td>\n",
       "      <td>True</td>\n",
       "      <td>9032</td>\n",
       "      <td>A</td>\n",
       "    </tr>\n",
       "  </tbody>\n",
       "</table>\n",
       "<p>400 rows × 7 columns</p>\n",
       "</div>"
      ],
      "text/plain": [
       "               filename  fold  target        category  esc10  src_file take\n",
       "0      1-100032-A-0.wav     1       0             dog   True    100032    A\n",
       "14     1-110389-A-0.wav     1       0             dog   True    110389    A\n",
       "24    1-116765-A-41.wav     1       1        chainsaw   True    116765    A\n",
       "54     1-17150-A-12.wav     1       2  crackling_fire   True     17150    A\n",
       "55    1-172649-A-40.wav     1       3      helicopter   True    172649    A\n",
       "...                 ...   ...     ...             ...    ...       ...  ...\n",
       "1876   5-233160-A-1.wav     5       8         rooster   True    233160    A\n",
       "1888   5-234879-A-1.wav     5       8         rooster   True    234879    A\n",
       "1889   5-234879-B-1.wav     5       8         rooster   True    234879    B\n",
       "1894  5-235671-A-38.wav     5       6      clock_tick   True    235671    A\n",
       "1999     5-9032-A-0.wav     5       0             dog   True      9032    A\n",
       "\n",
       "[400 rows x 7 columns]"
      ]
     },
     "execution_count": 154,
     "metadata": {},
     "output_type": "execute_result"
    }
   ],
   "source": [
    "DS.df"
   ]
  },
  {
   "cell_type": "code",
   "execution_count": 155,
   "metadata": {
    "id": "_K2bFBflcVR1"
   },
   "outputs": [
    {
     "data": {
      "text/plain": [
       "tensor([[[0.6039, 0.5333, 0.5059,  ..., 0.7294, 0.7333, 0.7765],\n",
       "         [0.5804, 0.4980, 0.4667,  ..., 0.7412, 0.7373, 0.7765],\n",
       "         [0.5294, 0.4275, 0.3843,  ..., 0.7608, 0.7412, 0.7725],\n",
       "         ...,\n",
       "         [0.0275, 0.0000, 0.0000,  ..., 0.0157, 0.0039, 0.0353],\n",
       "         [0.0275, 0.0000, 0.0000,  ..., 0.0039, 0.0000, 0.0314],\n",
       "         [0.0275, 0.0000, 0.0000,  ..., 0.0000, 0.0000, 0.0275]]])"
      ]
     },
     "execution_count": 155,
     "metadata": {},
     "output_type": "execute_result"
    }
   ],
   "source": [
    "DS.random_point_feature"
   ]
  },
  {
   "cell_type": "code",
   "execution_count": 109,
   "metadata": {
    "id": "IIJjKgO3cVR1"
   },
   "outputs": [
    {
     "data": {
      "text/plain": [
       "torch.Size([1, 256, 256])"
      ]
     },
     "execution_count": 109,
     "metadata": {},
     "output_type": "execute_result"
    }
   ],
   "source": [
    "DS.feature_shape"
   ]
  },
  {
   "cell_type": "code",
   "execution_count": 158,
   "metadata": {},
   "outputs": [
    {
     "name": "stdout",
     "output_type": "stream",
     "text": [
      "[tensor([[[[0.2392, 0.2078, 0.2157,  ..., 0.0000, 0.0000, 0.0000],\n",
      "          [0.2510, 0.2471, 0.2588,  ..., 0.0000, 0.0000, 0.0000],\n",
      "          [0.2706, 0.3216, 0.3412,  ..., 0.0000, 0.0000, 0.0000],\n",
      "          ...,\n",
      "          [0.0706, 0.1176, 0.1098,  ..., 0.0000, 0.0000, 0.0000],\n",
      "          [0.0980, 0.1137, 0.1059,  ..., 0.0000, 0.0000, 0.0000],\n",
      "          [0.1098, 0.1098, 0.1020,  ..., 0.0000, 0.0000, 0.0000]]],\n",
      "\n",
      "\n",
      "        [[[0.8431, 0.8157, 0.7961,  ..., 0.9020, 0.9412, 0.9020],\n",
      "          [0.8235, 0.8078, 0.8039,  ..., 0.8549, 0.9059, 0.8745],\n",
      "          [0.7804, 0.7882, 0.8235,  ..., 0.7647, 0.8314, 0.8157],\n",
      "          ...,\n",
      "          [0.2667, 0.1843, 0.1373,  ..., 0.2549, 0.3843, 0.3961],\n",
      "          [0.2627, 0.1961, 0.1451,  ..., 0.2510, 0.3961, 0.4235],\n",
      "          [0.2588, 0.2039, 0.1490,  ..., 0.2471, 0.4039, 0.4353]]],\n",
      "\n",
      "\n",
      "        [[[0.4588, 0.3882, 0.3725,  ..., 0.3255, 0.3333, 0.3294],\n",
      "          [0.4392, 0.3686, 0.3608,  ..., 0.3137, 0.3059, 0.3216],\n",
      "          [0.3961, 0.3255, 0.3333,  ..., 0.2863, 0.2510, 0.3020],\n",
      "          ...,\n",
      "          [0.1451, 0.2627, 0.3804,  ..., 0.5882, 0.5490, 0.5373],\n",
      "          [0.1490, 0.2510, 0.3725,  ..., 0.6000, 0.5686, 0.5412],\n",
      "          [0.1490, 0.2471, 0.3686,  ..., 0.6039, 0.5804, 0.5412]]],\n",
      "\n",
      "\n",
      "        ...,\n",
      "\n",
      "\n",
      "        [[[0.0000, 0.0000, 0.0039,  ..., 0.3647, 0.2392, 0.3020],\n",
      "          [0.0000, 0.0000, 0.0078,  ..., 0.3882, 0.2627, 0.3176],\n",
      "          [0.0000, 0.0000, 0.0118,  ..., 0.4392, 0.3059, 0.3490],\n",
      "          ...,\n",
      "          [0.0000, 0.0000, 0.0000,  ..., 0.0000, 0.0000, 0.0000],\n",
      "          [0.0000, 0.0000, 0.0000,  ..., 0.0000, 0.0000, 0.0000],\n",
      "          [0.0000, 0.0000, 0.0000,  ..., 0.0000, 0.0000, 0.0000]]],\n",
      "\n",
      "\n",
      "        [[[0.0980, 0.1686, 0.5412,  ..., 0.5804, 0.5216, 0.5176],\n",
      "          [0.0784, 0.1569, 0.5373,  ..., 0.6039, 0.5451, 0.5373],\n",
      "          [0.0392, 0.1373, 0.5333,  ..., 0.6549, 0.5922, 0.5804],\n",
      "          ...,\n",
      "          [0.0000, 0.0902, 0.4745,  ..., 0.6510, 0.6706, 0.7059],\n",
      "          [0.0000, 0.0902, 0.4706,  ..., 0.6863, 0.6667, 0.6706],\n",
      "          [0.0000, 0.0902, 0.4706,  ..., 0.7059, 0.6627, 0.6510]]],\n",
      "\n",
      "\n",
      "        [[[0.4235, 0.6235, 0.7922,  ..., 0.6471, 0.6353, 0.6039],\n",
      "          [0.4549, 0.6471, 0.8078,  ..., 0.6549, 0.6510, 0.6196],\n",
      "          [0.5137, 0.6902, 0.8353,  ..., 0.6667, 0.6863, 0.6549],\n",
      "          ...,\n",
      "          [0.2078, 0.2549, 0.1725,  ..., 0.2078, 0.2078, 0.2078],\n",
      "          [0.2118, 0.2431, 0.1608,  ..., 0.1804, 0.1882, 0.2039],\n",
      "          [0.2118, 0.2392, 0.1529,  ..., 0.1647, 0.1804, 0.2000]]]]), tensor([[[0, 0, 0, 0, 0, 0, 0, 0, 1, 0]],\n",
      "\n",
      "        [[0, 0, 1, 0, 0, 0, 0, 0, 0, 0]],\n",
      "\n",
      "        [[0, 0, 0, 0, 0, 1, 0, 0, 0, 0]],\n",
      "\n",
      "        [[0, 0, 0, 1, 0, 0, 0, 0, 0, 0]],\n",
      "\n",
      "        [[0, 0, 0, 0, 0, 0, 0, 0, 0, 1]],\n",
      "\n",
      "        [[0, 0, 1, 0, 0, 0, 0, 0, 0, 0]],\n",
      "\n",
      "        [[1, 0, 0, 0, 0, 0, 0, 0, 0, 0]],\n",
      "\n",
      "        [[0, 0, 0, 0, 0, 0, 1, 0, 0, 0]],\n",
      "\n",
      "        [[0, 0, 0, 0, 0, 0, 0, 0, 0, 1]],\n",
      "\n",
      "        [[0, 0, 0, 0, 0, 0, 0, 0, 1, 0]],\n",
      "\n",
      "        [[0, 0, 0, 1, 0, 0, 0, 0, 0, 0]],\n",
      "\n",
      "        [[0, 0, 0, 0, 0, 0, 1, 0, 0, 0]],\n",
      "\n",
      "        [[1, 0, 0, 0, 0, 0, 0, 0, 0, 0]],\n",
      "\n",
      "        [[0, 0, 0, 0, 0, 0, 1, 0, 0, 0]],\n",
      "\n",
      "        [[0, 0, 0, 0, 1, 0, 0, 0, 0, 0]],\n",
      "\n",
      "        [[0, 0, 0, 0, 1, 0, 0, 0, 0, 0]]])]\n"
     ]
    }
   ],
   "source": [
    "for batch in DS.full_data_loader:\n",
    "    print(batch)\n",
    "    break"
   ]
  },
  {
   "cell_type": "code",
   "execution_count": 159,
   "metadata": {},
   "outputs": [],
   "source": [
    "X, y = batch"
   ]
  },
  {
   "cell_type": "code",
   "execution_count": 170,
   "metadata": {},
   "outputs": [
    {
     "data": {
      "text/plain": [
       "tensor([[[0, 0, 0, 0, 0, 0, 0, 0, 1, 0]],\n",
       "\n",
       "        [[0, 0, 1, 0, 0, 0, 0, 0, 0, 0]],\n",
       "\n",
       "        [[0, 0, 0, 0, 0, 1, 0, 0, 0, 0]],\n",
       "\n",
       "        [[0, 0, 0, 1, 0, 0, 0, 0, 0, 0]],\n",
       "\n",
       "        [[0, 0, 0, 0, 0, 0, 0, 0, 0, 1]],\n",
       "\n",
       "        [[0, 0, 1, 0, 0, 0, 0, 0, 0, 0]],\n",
       "\n",
       "        [[1, 0, 0, 0, 0, 0, 0, 0, 0, 0]],\n",
       "\n",
       "        [[0, 0, 0, 0, 0, 0, 1, 0, 0, 0]],\n",
       "\n",
       "        [[0, 0, 0, 0, 0, 0, 0, 0, 0, 1]],\n",
       "\n",
       "        [[0, 0, 0, 0, 0, 0, 0, 0, 1, 0]],\n",
       "\n",
       "        [[0, 0, 0, 1, 0, 0, 0, 0, 0, 0]],\n",
       "\n",
       "        [[0, 0, 0, 0, 0, 0, 1, 0, 0, 0]],\n",
       "\n",
       "        [[1, 0, 0, 0, 0, 0, 0, 0, 0, 0]],\n",
       "\n",
       "        [[0, 0, 0, 0, 0, 0, 1, 0, 0, 0]],\n",
       "\n",
       "        [[0, 0, 0, 0, 1, 0, 0, 0, 0, 0]],\n",
       "\n",
       "        [[0, 0, 0, 0, 1, 0, 0, 0, 0, 0]]])"
      ]
     },
     "execution_count": 170,
     "metadata": {},
     "output_type": "execute_result"
    }
   ],
   "source": [
    "y"
   ]
  },
  {
   "cell_type": "code",
   "execution_count": 171,
   "metadata": {},
   "outputs": [
    {
     "data": {
      "text/plain": [
       "torch.Size([16, 1, 10])"
      ]
     },
     "execution_count": 171,
     "metadata": {},
     "output_type": "execute_result"
    }
   ],
   "source": [
    "y.shape"
   ]
  },
  {
   "cell_type": "code",
   "execution_count": null,
   "metadata": {},
   "outputs": [],
   "source": [
    "DS.number_of_classes"
   ]
  },
  {
   "cell_type": "code",
   "execution_count": 47,
   "metadata": {},
   "outputs": [
    {
     "ename": "TypeError",
     "evalue": "return arrays must be of ArrayType",
     "output_type": "error",
     "traceback": [
      "\u001b[0;31m---------------------------------------------------------------------------\u001b[0m",
      "\u001b[0;31mTypeError\u001b[0m                                 Traceback (most recent call last)",
      "Input \u001b[0;32mIn [47]\u001b[0m, in \u001b[0;36m<cell line: 1>\u001b[0;34m()\u001b[0m\n\u001b[0;32m----> 1\u001b[0m \u001b[43mnp\u001b[49m\u001b[38;5;241;43m.\u001b[39;49m\u001b[43mmultiply\u001b[49m\u001b[43m(\u001b[49m\u001b[38;5;241;43m*\u001b[39;49m\u001b[43mDS\u001b[49m\u001b[38;5;241;43m.\u001b[39;49m\u001b[43mfeature_shape\u001b[49m\u001b[43m)\u001b[49m\n",
      "\u001b[0;31mTypeError\u001b[0m: return arrays must be of ArrayType"
     ]
    }
   ],
   "source": [
    "np.multiply(*DS.feature_shape)"
   ]
  },
  {
   "cell_type": "code",
   "execution_count": 13,
   "metadata": {},
   "outputs": [],
   "source": [
    "from PIL import Image"
   ]
  },
  {
   "cell_type": "markdown",
   "metadata": {
    "id": "nw1FsEiBcVR1"
   },
   "source": [
    "###### MODEL"
   ]
  },
  {
   "cell_type": "code",
   "execution_count": 4,
   "metadata": {
    "executionInfo": {
     "elapsed": 300,
     "status": "ok",
     "timestamp": 1662380744266,
     "user": {
      "displayName": "Дмитрий Галимзянов",
      "userId": "11134509458244039564"
     },
     "user_tz": -180
    },
    "id": "1ZTmbmhPcVR2"
   },
   "outputs": [],
   "source": [
    "def get_device():\n",
    "    return torch.device('cuda:0') if torch.cuda.is_available() else torch.device('cpu')\n",
    "\n",
    "\n",
    "\"\"\"\n",
    "Model\n",
    "\"\"\"\n",
    "# class Model(nn.Module):\n",
    "#     def __init__(self, in_dim=1*128*431, out_dim=50):\n",
    "#         super().__init__()\n",
    "#         self.network = nn.Sequential(\n",
    "#             nn.Linear(in_dim, out_dim))\n",
    "        \n",
    "#     def forward(self, xb):\n",
    "#         x = xb.flatten(start_dim=1)\n",
    "#         return self.network(x)\n",
    "\n",
    "    \n",
    "# class Model(nn.Module):\n",
    "#     def __init__(self, in_dim=1*128*431, out_dim=50):\n",
    "#         super().__init__()\n",
    "#         self.network = nn.Sequential(\n",
    "#             nn.Conv2d(3, 32, kernel_size=3, padding=1),\n",
    "#             nn.ReLU(),\n",
    "#             nn.Conv2d(32, 64, kernel_size=3, stride=1, padding=1),\n",
    "#             nn.ReLU(),\n",
    "#             nn.MaxPool2d(2, 2), # output: 64 x 16 x 16\n",
    "\n",
    "#             nn.Conv2d(64, 128, kernel_size=3, stride=1, padding=1),\n",
    "#             nn.ReLU(),\n",
    "#             nn.Conv2d(128, 128, kernel_size=3, stride=1, padding=1),\n",
    "#             nn.ReLU(),\n",
    "#             nn.MaxPool2d(2, 2), # output: 128 x 8 x 8\n",
    "\n",
    "#             nn.Conv2d(128, 256, kernel_size=3, stride=1, padding=1),\n",
    "#             nn.ReLU(),\n",
    "#             nn.Conv2d(256, 256, kernel_size=3, stride=1, padding=1),\n",
    "#             nn.ReLU(),\n",
    "#             nn.MaxPool2d(2, 2), # output: 256 x 4 x 4\n",
    "\n",
    "#             nn.Flatten(), \n",
    "#             nn.Linear(256*4*4, 1024),\n",
    "#             nn.ReLU(),\n",
    "#             nn.Linear(1024, 512),\n",
    "#             nn.ReLU(),\n",
    "#             nn.Linear(512, out_dim))\n",
    "        \n",
    "#     def forward(self, xb):\n",
    "#         return self.network(xb)    \n",
    "    \n",
    "    \n",
    "def _init_model(in_dim=1*128*431, out_dim=50):\n",
    "    \n",
    "    # 1. custom\n",
    "#     model = Model(in_dim=in_dim, out_dim=out_dim)\n",
    "    \n",
    "    # 2. resnet\n",
    "    model = resnet34(pretrained=True)\n",
    "    model.conv1 = nn.Conv2d(1, 64, kernel_size=(7, 7), stride=(2, 2), padding=(3, 3), bias=False)\n",
    "    model.fc = nn.Linear(in_features=512, out_features=out_dim)\n",
    " \n",
    "\n",
    "    # 3. alexnet\n",
    "#     model = AlexNet(pretrained=True)\n",
    "#     model = AlexNet()\n",
    "#     model.features[0] = nn.Conv2d(1, 64, kernel_size=(11, 11), stride=(4, 4), padding=(2, 2))\n",
    "#     model.classifier[6] = nn.Linear(in_features=4096, out_features=out_dim)\n",
    "\n",
    "    model = model.to(device)\n",
    "    print(model)\n",
    "    return model\n",
    "\n",
    "\n",
    "def _get_accuracy(folds_dct):\n",
    "    \n",
    "    report_dct = dict()\n",
    "    accuracies = []\n",
    "    for fold_num, dct in folds_dct.items():\n",
    "        y_true = dct[\"y_true\"]\n",
    "        y_pred = dct[\"y_pred\"]\n",
    "        \n",
    "        report_dct[fold_num] = classification_report(y_true, y_pred)\n",
    "        accuracies.append(accuracy_score(y_true, y_pred))\n",
    "        \n",
    "    cros_val_accuracy = np.mean(accuracies)\n",
    "    \n",
    "    return report_dct, cros_val_accuracy\n",
    "\n",
    "\n",
    "\"\"\"\n",
    "Train\n",
    "\"\"\"\n",
    "def train(model, \n",
    "          train_loader, \n",
    "          valid_loader,\n",
    "          epochs=50,\n",
    "          lr=2e-4,\n",
    "          gamma=0.96,\n",
    "          optim=Adam,\n",
    "          sheduler=ExponentialLR,\n",
    "          loss_fn=nn.CrossEntropyLoss()):\n",
    "      \n",
    "    \n",
    "    optimizer = optim(model.parameters(), lr=lr)\n",
    "    lr_scheduler = sheduler(optimizer=optimizer, gamma=gamma)\n",
    "        \n",
    "    train_losses = []\n",
    "    valid_losses = []    \n",
    "    y_dict = dict()\n",
    "    \n",
    "    for epoch in tqdm(range(1, epochs + 1)):\n",
    "        \n",
    "        # 1. train\n",
    "        model.train()        \n",
    "        lr_scheduler.step()\n",
    "        \n",
    "        batch_losses=[]\n",
    "        for i, data in enumerate(train_loader):\n",
    "            x, y = data\n",
    "            optimizer.zero_grad()\n",
    "            x = x.to(device, dtype=torch.float32)\n",
    "            y = y.to(device, dtype=torch.long)\n",
    "            \n",
    "            y_hat = model(x)\n",
    "#             print(f\"y.shape: {y.shape}\")\n",
    "#             print(f\"y: {y}\")\n",
    "#             print()\n",
    "#             print(f\"y_hat.shape: {y_hat.shape}\")\n",
    "#             print(f\"y_hat: {y_hat}\")\n",
    "                \n",
    "            loss = loss_fn(y_hat, y)\n",
    "            loss.backward()\n",
    "            batch_losses.append(loss.item())\n",
    "            optimizer.step()\n",
    "\n",
    "        train_loss = np.mean(batch_losses)    \n",
    "        train_losses.append(train_loss)\n",
    "        print(f'Epoch: {epoch} | Train_Loss : {train_loss}')\n",
    "        \n",
    "        \n",
    "        # 2. validate\n",
    "        if valid_loader is not None:\n",
    "            model.eval()\n",
    "            batch_losses=[]\n",
    "            trace_y = []\n",
    "            trace_y_hat = []\n",
    "\n",
    "            for i, data in enumerate(valid_loader):\n",
    "                x, y = data\n",
    "                x = x.to(device, dtype=torch.float32)\n",
    "                y = y.to(device, dtype=torch.long)\n",
    "\n",
    "                y_hat = model(x)\n",
    "                loss = loss_fn(y_hat, y)\n",
    "                trace_y.append(y.cpu().detach().numpy())\n",
    "                trace_y_hat.append(y_hat.cpu().detach().numpy())      \n",
    "                batch_losses.append(loss.item())\n",
    "\n",
    "            valid_loss = np.mean(batch_losses[-1])    \n",
    "            valid_losses.append(valid_loss)\n",
    "\n",
    "            trace_y = np.concatenate(trace_y)\n",
    "            trace_y_hat = np.concatenate(trace_y_hat).argmax(axis=1)\n",
    "            \n",
    "            \n",
    "            y_dict[epoch] = {\"y_true\": trace_y, \"y_pred\": trace_y_hat}\n",
    "            \n",
    "#             print(f\"trace_y.shape: {trace_y.shape}\")\n",
    "#             print(f\"trace_y: {trace_y}\")\n",
    "#             print()\n",
    "            \n",
    "#             print(f\"trace_y_hat.shape: {trace_y_hat.shape}\")\n",
    "#             print(f\"trace_y_hat: {trace_y_hat}\")\n",
    "\n",
    "            print(f\"Epoch: {epoch} | Valid_Loss : {valid_loss}\") \n",
    "#             print(f\"Valid_Accuracy : {accuracy}\")\n",
    "    \n",
    "    return model, optimizer, train_losses, valid_losses, y_dict\n",
    "\n",
    "    \n",
    "def plot_losses(train_losses, valid_losses):\n",
    "    epochs = len(train_losses)\n",
    "    x = np.linspace(1, epochs, epochs) \n",
    "    plt.plot(x, train_losses, label=\"train_loss\")\n",
    "    if len(valid_losses) > 0:\n",
    "        assert len(train_losses) == len(valid_losses)\n",
    "        plt.plot(x, valid_losses, label=\"validation_loss\")\n",
    "    plt.xlabel(\"epoch\")\n",
    "    plt.ylabel(\"loss\")\n",
    "    plt.title(\"Training process\")\n",
    "    plt.legend()\n",
    "    plt.show()\n",
    "    \n",
    "    \n",
    "    \n",
    "\"\"\"\n",
    "Main class\n",
    "\"\"\"\n",
    "class AudioClassifier:\n",
    "    \n",
    "    ### add lr plot\n",
    "    ### add std to mean score\n",
    "    \n",
    "    def __init__(self, data_storage):\n",
    "        self.data_storage = data_storage\n",
    "           \n",
    "            \n",
    "    def _fit(self, \n",
    "             train_loader, \n",
    "             test_loader,\n",
    "             plot_training=True):\n",
    "        \n",
    "        in_dim = torch.tensor(self.data_storage.feature_shape).prod()\n",
    "        out_dim = self.data_storage.number_of_classes\n",
    "        model = _init_model(in_dim=in_dim, out_dim=out_dim)\n",
    "        \n",
    "        model, optimizer, train_losses, test_losses, y_dict = train(model,  \n",
    "                                                                    train_loader, \n",
    "                                                                    test_loader, \n",
    "                                                                    epochs=self.epochs,\n",
    "                                                                    lr=self.lr,\n",
    "                                                                    gamma=self.gamma,\n",
    "                                                                    optim=self.optim,\n",
    "                                                                    sheduler=self.sheduler,\n",
    "                                                                    loss_fn=self.loss_fn)\n",
    "        \n",
    "        self.model = model\n",
    "        self.optimizer = optimizer\n",
    "        self.train_losses = train_losses\n",
    "        self.test_losses = test_losses\n",
    "        self.y_dict = y_dict\n",
    "        if plot_training:\n",
    "            plot_losses(train_losses, test_losses)       \n",
    "    \n",
    "    \n",
    "    def fit(self, \n",
    "            epochs=50, \n",
    "            lr=2e-4,\n",
    "            gamma=0.96,\n",
    "            optim=Adam,\n",
    "            sheduler=ExponentialLR,\n",
    "            loss_fn=nn.CrossEntropyLoss(), \n",
    "            plot_training=True):\n",
    "        \n",
    "        self.epochs = epochs\n",
    "        self.lr = lr\n",
    "        self.gamma = gamma\n",
    "        self.optim = optim\n",
    "        self.sheduler = sheduler\n",
    "        self.loss_fn = loss_fn\n",
    "         \n",
    "        self._fit(self.data_storage.full_data_loader, \n",
    "                  None,\n",
    "                  plot_training=plot_training)\n",
    "        \n",
    "        \n",
    "    def cross_validation(self, \n",
    "                         epochs=50, \n",
    "                            lr=2e-4,\n",
    "                            gamma=0.96,\n",
    "                            optim=Adam,\n",
    "                            sheduler=ExponentialLR,\n",
    "                            loss_fn=nn.CrossEntropyLoss(), \n",
    "                            plot_training=True):\n",
    "        \n",
    "        self.epochs = epochs\n",
    "        self.lr = lr\n",
    "        self.gamma = gamma\n",
    "        self.optim = optim\n",
    "        self.sheduler = sheduler\n",
    "        self.loss_fn = loss_fn\n",
    "        \n",
    "        cross_val_loss_s = []\n",
    "        y_dict_s = []\n",
    "        for i, (train_loader, test_loader) in enumerate(self.data_storage.cross_validation_loaders):\n",
    "            print(f\"--- CROSS VALIDATION | FOLD: {i + 1} ---\")\n",
    "            self._fit(train_loader, \n",
    "                      test_loader, \n",
    "                      plot_training=plot_training)\n",
    "            \n",
    "            loss = self.test_losses[-1]\n",
    "            cross_val_loss_s.append(loss)\n",
    "            \n",
    "            last_epoch = sorted(self.y_dict.keys())[-1]\n",
    "            last_epoch_preds = self.y_dict[last_epoch]\n",
    "            y_dict_s.append(last_epoch_preds)\n",
    "            \n",
    "        report_dct, cross_val_accuracy = _get_accuracy(y_dict_s)\n",
    "        \n",
    "        self.cross_val_loss_s = cross_val_loss_s\n",
    "        self.cross_val_loss = np.mean(cross_val_loss_s)\n",
    "        self.cross_val_accuracy = cross_val_accuracy\n",
    "        self.report_dct = report_dct\n",
    "        print()\n",
    "        print(f\"--- CROSS VALIDATION ACCURACY: {self.cross_val_accuracy} ---\")\n",
    "        print()\n",
    "        print(f\"--- CROSS VALIDATION LOSS: {self.cross_val_loss} ---\")\n",
    "        print()\n",
    "        for fold_num, report in report_dct.items():\n",
    "            print(f\"------ fold: {fold_num} ------\")\n",
    "            print(report)\n",
    "            print(\"-------------------------------\")\n",
    "            print()\n",
    "        \n",
    "\n",
    "    def predict(self, loader): \n",
    "        ### improve\n",
    "        trace_y_hat = []\n",
    "        self.model.eval()\n",
    "        for i, data in enumerate(loader):\n",
    "            x, y = data\n",
    "            x = x.to(device, dtype=torch.float32)\n",
    "            y = y.to(device, dtype=torch.long)\n",
    "\n",
    "            y_hat = self.model(x)\n",
    "#             trace_y_hat.append(y_hat.cpu().detach().numpy())   \n",
    "            trace_y_hat.append(y_hat.cpu().detach().numpy().argmax(axis=1))\n",
    "\n",
    "        return trace_y_hat\n",
    "    "
   ]
  },
  {
   "cell_type": "code",
   "execution_count": null,
   "metadata": {},
   "outputs": [],
   "source": []
  },
  {
   "cell_type": "code",
   "execution_count": null,
   "metadata": {},
   "outputs": [],
   "source": []
  },
  {
   "cell_type": "code",
   "execution_count": 232,
   "metadata": {
    "id": "0sKqyaZqzOc0",
    "scrolled": true
   },
   "outputs": [],
   "source": [
    "device = get_device()\n",
    "\n",
    "clf = AudioClassifier(DS)"
   ]
  },
  {
   "cell_type": "code",
   "execution_count": 213,
   "metadata": {
    "scrolled": false
   },
   "outputs": [
    {
     "name": "stdout",
     "output_type": "stream",
     "text": [
      "AlexNet(\n",
      "  (features): Sequential(\n",
      "    (0): Conv2d(1, 64, kernel_size=(11, 11), stride=(4, 4), padding=(2, 2))\n",
      "    (1): ReLU(inplace=True)\n",
      "    (2): MaxPool2d(kernel_size=3, stride=2, padding=0, dilation=1, ceil_mode=False)\n",
      "    (3): Conv2d(64, 192, kernel_size=(5, 5), stride=(1, 1), padding=(2, 2))\n",
      "    (4): ReLU(inplace=True)\n",
      "    (5): MaxPool2d(kernel_size=3, stride=2, padding=0, dilation=1, ceil_mode=False)\n",
      "    (6): Conv2d(192, 384, kernel_size=(3, 3), stride=(1, 1), padding=(1, 1))\n",
      "    (7): ReLU(inplace=True)\n",
      "    (8): Conv2d(384, 256, kernel_size=(3, 3), stride=(1, 1), padding=(1, 1))\n",
      "    (9): ReLU(inplace=True)\n",
      "    (10): Conv2d(256, 256, kernel_size=(3, 3), stride=(1, 1), padding=(1, 1))\n",
      "    (11): ReLU(inplace=True)\n",
      "    (12): MaxPool2d(kernel_size=3, stride=2, padding=0, dilation=1, ceil_mode=False)\n",
      "  )\n",
      "  (avgpool): AdaptiveAvgPool2d(output_size=(6, 6))\n",
      "  (classifier): Sequential(\n",
      "    (0): Dropout(p=0.5, inplace=False)\n",
      "    (1): Linear(in_features=9216, out_features=4096, bias=True)\n",
      "    (2): ReLU(inplace=True)\n",
      "    (3): Dropout(p=0.5, inplace=False)\n",
      "    (4): Linear(in_features=4096, out_features=4096, bias=True)\n",
      "    (5): ReLU(inplace=True)\n",
      "    (6): Linear(in_features=4096, out_features=10, bias=True)\n",
      "  )\n",
      ")\n"
     ]
    },
    {
     "name": "stderr",
     "output_type": "stream",
     "text": [
      "100%|██████████| 1/1 [00:44<00:00, 44.21s/it]"
     ]
    },
    {
     "name": "stdout",
     "output_type": "stream",
     "text": [
      "Epoch: 1 | Train_Loss : 2.227803497314453\n"
     ]
    },
    {
     "name": "stderr",
     "output_type": "stream",
     "text": [
      "\n"
     ]
    },
    {
     "data": {
      "image/png": "[encoded data removed]",
      "text/plain": [
       "<Figure size 432x288 with 1 Axes>"
      ]
     },
     "metadata": {
      "needs_background": "light"
     },
     "output_type": "display_data"
    }
   ],
   "source": [
    "clf.fit(epochs=1)"
   ]
  },
  {
   "cell_type": "code",
   "execution_count": null,
   "metadata": {},
   "outputs": [],
   "source": []
  },
  {
   "cell_type": "code",
   "execution_count": null,
   "metadata": {
    "scrolled": false
   },
   "outputs": [
    {
     "name": "stdout",
     "output_type": "stream",
     "text": [
      "--- CROSS VALIDATION | FOLD: 1 ---\n",
      "AlexNet(\n",
      "  (features): Sequential(\n",
      "    (0): Conv2d(1, 64, kernel_size=(11, 11), stride=(4, 4), padding=(2, 2))\n",
      "    (1): ReLU(inplace=True)\n",
      "    (2): MaxPool2d(kernel_size=3, stride=2, padding=0, dilation=1, ceil_mode=False)\n",
      "    (3): Conv2d(64, 192, kernel_size=(5, 5), stride=(1, 1), padding=(2, 2))\n",
      "    (4): ReLU(inplace=True)\n",
      "    (5): MaxPool2d(kernel_size=3, stride=2, padding=0, dilation=1, ceil_mode=False)\n",
      "    (6): Conv2d(192, 384, kernel_size=(3, 3), stride=(1, 1), padding=(1, 1))\n",
      "    (7): ReLU(inplace=True)\n",
      "    (8): Conv2d(384, 256, kernel_size=(3, 3), stride=(1, 1), padding=(1, 1))\n",
      "    (9): ReLU(inplace=True)\n",
      "    (10): Conv2d(256, 256, kernel_size=(3, 3), stride=(1, 1), padding=(1, 1))\n",
      "    (11): ReLU(inplace=True)\n",
      "    (12): MaxPool2d(kernel_size=3, stride=2, padding=0, dilation=1, ceil_mode=False)\n",
      "  )\n",
      "  (avgpool): AdaptiveAvgPool2d(output_size=(6, 6))\n",
      "  (classifier): Sequential(\n",
      "    (0): Dropout(p=0.5, inplace=False)\n",
      "    (1): Linear(in_features=9216, out_features=4096, bias=True)\n",
      "    (2): ReLU(inplace=True)\n",
      "    (3): Dropout(p=0.5, inplace=False)\n",
      "    (4): Linear(in_features=4096, out_features=4096, bias=True)\n",
      "    (5): ReLU(inplace=True)\n",
      "    (6): Linear(in_features=4096, out_features=10, bias=True)\n",
      "  )\n",
      ")\n"
     ]
    },
    {
     "name": "stderr",
     "output_type": "stream",
     "text": [
      "\r",
      "  0%|          | 0/2 [00:00<?, ?it/s]"
     ]
    },
    {
     "name": "stdout",
     "output_type": "stream",
     "text": [
      "Epoch: 1 | Train_Loss : 2.2574892163276674\n"
     ]
    },
    {
     "name": "stderr",
     "output_type": "stream",
     "text": [
      "\r",
      " 50%|█████     | 1/2 [01:10<01:10, 70.26s/it]"
     ]
    },
    {
     "name": "stdout",
     "output_type": "stream",
     "text": [
      "Epoch: 1 | Valid_Loss : 2.0436060428619385\n",
      "Epoch: 2 | Train_Loss : 1.8949442923069\n"
     ]
    },
    {
     "name": "stderr",
     "output_type": "stream",
     "text": [
      "100%|██████████| 2/2 [01:50<00:00, 55.04s/it]"
     ]
    },
    {
     "name": "stdout",
     "output_type": "stream",
     "text": [
      "Epoch: 2 | Valid_Loss : 1.7450995445251465\n"
     ]
    },
    {
     "name": "stderr",
     "output_type": "stream",
     "text": [
      "\n"
     ]
    },
    {
     "data": {
      "image/png": "[encoded data removed]",
      "text/plain": [
       "<Figure size 432x288 with 1 Axes>"
      ]
     },
     "metadata": {
      "needs_background": "light"
     },
     "output_type": "display_data"
    },
    {
     "name": "stdout",
     "output_type": "stream",
     "text": [
      "--- CROSS VALIDATION | FOLD: 2 ---\n",
      "AlexNet(\n",
      "  (features): Sequential(\n",
      "    (0): Conv2d(1, 64, kernel_size=(11, 11), stride=(4, 4), padding=(2, 2))\n",
      "    (1): ReLU(inplace=True)\n",
      "    (2): MaxPool2d(kernel_size=3, stride=2, padding=0, dilation=1, ceil_mode=False)\n",
      "    (3): Conv2d(64, 192, kernel_size=(5, 5), stride=(1, 1), padding=(2, 2))\n",
      "    (4): ReLU(inplace=True)\n",
      "    (5): MaxPool2d(kernel_size=3, stride=2, padding=0, dilation=1, ceil_mode=False)\n",
      "    (6): Conv2d(192, 384, kernel_size=(3, 3), stride=(1, 1), padding=(1, 1))\n",
      "    (7): ReLU(inplace=True)\n",
      "    (8): Conv2d(384, 256, kernel_size=(3, 3), stride=(1, 1), padding=(1, 1))\n",
      "    (9): ReLU(inplace=True)\n",
      "    (10): Conv2d(256, 256, kernel_size=(3, 3), stride=(1, 1), padding=(1, 1))\n",
      "    (11): ReLU(inplace=True)\n",
      "    (12): MaxPool2d(kernel_size=3, stride=2, padding=0, dilation=1, ceil_mode=False)\n",
      "  )\n",
      "  (avgpool): AdaptiveAvgPool2d(output_size=(6, 6))\n",
      "  (classifier): Sequential(\n",
      "    (0): Dropout(p=0.5, inplace=False)\n",
      "    (1): Linear(in_features=9216, out_features=4096, bias=True)\n",
      "    (2): ReLU(inplace=True)\n",
      "    (3): Dropout(p=0.5, inplace=False)\n",
      "    (4): Linear(in_features=4096, out_features=4096, bias=True)\n",
      "    (5): ReLU(inplace=True)\n",
      "    (6): Linear(in_features=4096, out_features=10, bias=True)\n",
      "  )\n",
      ")\n"
     ]
    },
    {
     "name": "stderr",
     "output_type": "stream",
     "text": [
      "\r",
      "  0%|          | 0/2 [00:00<?, ?it/s]"
     ]
    }
   ],
   "source": [
    "clf.cross_validation(epochs=2)"
   ]
  },
  {
   "cell_type": "code",
   "execution_count": null,
   "metadata": {},
   "outputs": [],
   "source": []
  },
  {
   "cell_type": "code",
   "execution_count": null,
   "metadata": {},
   "outputs": [],
   "source": []
  },
  {
   "cell_type": "code",
   "execution_count": null,
   "metadata": {},
   "outputs": [],
   "source": []
  }
 ],
 "metadata": {
  "accelerator": "GPU",
  "colab": {
   "collapsed_sections": [],
   "provenance": []
  },
  "gpuClass": "standard",
  "kernelspec": {
   "display_name": "Python 3",
   "language": "python",
   "name": "python3"
  },
  "language_info": {
   "codemirror_mode": {
    "name": "ipython",
    "version": 3
   },
   "file_extension": ".py",
   "mimetype": "text/x-python",
   "name": "python",
   "nbconvert_exporter": "python",
   "pygments_lexer": "ipython3",
   "version": "3.9.13"
  }
 },
 "nbformat": 4,
 "nbformat_minor": 1
}
